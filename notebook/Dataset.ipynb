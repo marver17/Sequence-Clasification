{
 "cells": [
  {
   "cell_type": "markdown",
   "id": "e6bd1d79-d6e9-4c1b-b0ba-813f3ba78524",
   "metadata": {},
   "source": [
    "# Dataset \n",
    "\n",
    "Nella prima parte del codice vado a creare il dataframe con i path relativi alle varie immagini, divise per T1/T2/OTHER and FLAIR.\n",
    "\n",
    "Nella seconda vado a creare le immagini andando ad inserire i tre dicom del pre-retrive nei tre canali RGB in modo da andare a ricreare \"una visione 3D\".\n"
   ]
  },
  {
   "cell_type": "markdown",
   "id": "6e6a66a6-c6f3-4446-8470-e812cd1169b8",
   "metadata": {},
   "source": [
    "## Dataframe "
   ]
  },
  {
   "cell_type": "code",
   "execution_count": 6,
   "id": "a7f79081-51c6-4a78-a194-0eb136d500dd",
   "metadata": {
    "tags": []
   },
   "outputs": [],
   "source": [
    "from pymongo import MongoClient\n",
    "import pandas as pd\n",
    "import urllib.parse"
   ]
  },
  {
   "cell_type": "code",
   "execution_count": 5,
   "id": "6bb67207-816c-449d-ac86-e6cb03d55dfb",
   "metadata": {
    "tags": []
   },
   "outputs": [
    {
     "data": {
      "text/plain": [
       "Database(MongoClient(host=['10.224.68.10:30015'], document_class=dict, tz_aware=False, connect=True), 'pre_retrieve_ONWAY')"
      ]
     },
     "execution_count": 31,
     "metadata": {},
     "output_type": "execute_result"
    }
   ],
   "source": [
    "username = \"adminuser\"\n",
    "password  = \"adminpw\"\n",
    "client = MongoClient('10.224.68.10', 30015,password = password ,username = username )\n",
    "db = client.get_database(\"pre_retrieve_ONWAY\")"
   ]
  },
  {
   "cell_type": "code",
   "execution_count": 50,
   "id": "e2ab2e2e-6920-412d-a035-ca4cb0e374af",
   "metadata": {
    "tags": []
   },
   "outputs": [],
   "source": [
    "df = pd.DataFrame(list(\n",
    "        db.dicom_series.find(\n",
    "            {\"is_brain_manual\": {\"$in\": [ True]},            },\n",
    "            {f: 1 for f in (\"is_brain_manual\", \"SeriesDescription\", \"file_path\",\"sequence_type_manual\")} #dictionary comprehension \n",
    "        )\n",
    "    ))"
   ]
  },
  {
   "cell_type": "code",
   "execution_count": 60,
   "id": "fb2b0ec1-fe3a-43d6-b0fe-0004a2ef9e3f",
   "metadata": {
    "tags": []
   },
   "outputs": [],
   "source": [
    "T1 = df.loc[df[\"sequence_type_manual\"] == \"T1\"]\n",
    "T2 = df.loc[df[\"sequence_type_manual\"] == \"T2\"]\n",
    "FLAIR = df.loc[df[\"sequence_type_manual\"] == \"FLAIR\"]\n",
    "OTHER = df.loc[df[\"sequence_type_manual\"] == \"OTHER\"]"
   ]
  },
  {
   "cell_type": "code",
   "execution_count": 72,
   "id": "89667a1c-9265-4c7e-8128-7b9a171718be",
   "metadata": {
    "tags": []
   },
   "outputs": [],
   "source": [
    "T1_path = list(T1[\"file_path\"].str.replace(\"/mnt/databaseRICERCA_SDN/ONWAY/PACS\",\"/home/jovyan/Verdicchio/ONWAY_DATA\"))\n",
    "T2_path = list(T2[\"file_path\"].str.replace(\"/mnt/databaseRICERCA_SDN/ONWAY/PACS\",\"/home/jovyan/Verdicchio/ONWAY_DATA\"))\n",
    "FLAIR_path = list(FLAIR[\"file_path\"].str.replace(\"/mnt/databaseRICERCA_SDN/ONWAY/PACS\",\"/home/jovyan/Verdicchio/ONWAY_DATA\"))\n",
    "OTHER_path = list(OTHER[\"file_path\"].str.replace(\"/mnt/databaseRICERCA_SDN/ONWAY/PACS\",\"/home/jovyan/Verdicchio/ONWAY_DATA\"))\n"
   ]
  },
  {
   "cell_type": "code",
   "execution_count": 81,
   "id": "c8929dac-bc10-4198-8fd9-b12e8c0df0f5",
   "metadata": {
    "tags": []
   },
   "outputs": [],
   "source": [
    "pd.DataFrame.from_dict({\"T1\": T1_path,\"T2\": T2_path,\"FLAIR\": FLAIR_path,\"OTHER\": OTHER_path},orient='index').T.to_csv(\"/home/jovyan/Verdicchio/Progetti/Sequence-Clasification/dataset.csv\", sep = \";\")"
   ]
  },
  {
   "cell_type": "markdown",
   "id": "589d7ca9-c53f-48d2-8ce3-b514b94087d7",
   "metadata": {},
   "source": [
    "## Image Creation\n",
    "\n",
    "Vado a creare delle immagini del tipo : \n",
    "\n",
    "<img src=\"./prova.jpg\" />\n",
    "\n",
    "In cui sui tre canali ci sono le tre immagini del pre-retrive.\n",
    "NB: va chiarita la questione della posizione, ovviamente per rendere il tutto omogeneo possibile dovrei avere : \n",
    "\n",
    "\n",
    "|Canale| Stack image|\n",
    "| :---        |    :----:   |\n",
    "| 1      |  25 |\n",
    "| 2      |  50 |\n",
    "| 3      |  75 |\n"
   ]
  },
  {
   "cell_type": "code",
   "execution_count": 80,
   "id": "9266fcf7-4829-4db6-b19e-3e42967f2344",
   "metadata": {
    "tags": []
   },
   "outputs": [],
   "source": [
    "import pandas as pd\n",
    "import matplotlib.pyplot as plt\n",
    "import sys\n",
    "sys.path.append(\"../\")\n",
    "import numpy as np \n",
    "from script.dataset_prep import Dataset_preparation\n",
    "import os \n",
    "from tqdm.notebook import tqdm"
   ]
  },
  {
   "cell_type": "code",
   "execution_count": 78,
   "id": "612d4580-8b05-4124-a2d7-293182dec98b",
   "metadata": {
    "tags": []
   },
   "outputs": [],
   "source": [
    "Dataset_path = pd.read_csv(\"../dataset.csv\",sep = \";\")\n",
    "T1 = list(Dataset_path[\"T1\"].dropna())\n",
    "T2 = list(Dataset_path[\"T2\"].dropna())\n",
    "FLAIR = list(Dataset_path[\"FLAIR\"].dropna())\n",
    "OTHER = list(Dataset_path[\"OTHER\"].dropna())"
   ]
  },
  {
   "cell_type": "code",
   "execution_count": 57,
   "id": "eb077419-399b-4759-81f7-111191c0803b",
   "metadata": {
    "tags": []
   },
   "outputs": [],
   "source": [
    "def z_normalization(img):\n",
    "    return (img -np.mean(img))/np.std(img)"
   ]
  },
  {
   "cell_type": "code",
   "execution_count": 73,
   "id": "14e0f66f-4952-4070-94a7-bea2a3d84042",
   "metadata": {
    "tags": []
   },
   "outputs": [],
   "source": [
    "def create_image(sequence,path_save):\n",
    "    for path in tqdm(sequence):\n",
    "        img = [] \n",
    "        for i in [os.path.join(path,x) for x in os.listdir(path)] : \n",
    "            file = Dataset_preparation(i)\n",
    "            img.append(file.load_image())\n",
    "            I = z_normalization(np.moveaxis(np.array(img), 0, -1))\n",
    "            file_name = os.path.basename(os.path.dirname(i)) \n",
    "        np.save(os.path.join(path_save,file_name),I)"
   ]
  },
  {
   "cell_type": "code",
   "execution_count": 81,
   "id": "126f741b-8fbd-4e4e-b6d5-0fc9c51ed01e",
   "metadata": {
    "tags": []
   },
   "outputs": [
    {
     "data": {
      "application/vnd.jupyter.widget-view+json": {
       "model_id": "2d557a32f6f3417292067d8d49b892aa",
       "version_major": 2,
       "version_minor": 0
      },
      "text/plain": [
       "  0%|          | 0/488 [00:00<?, ?it/s]"
      ]
     },
     "metadata": {},
     "output_type": "display_data"
    },
    {
     "data": {
      "application/vnd.jupyter.widget-view+json": {
       "model_id": "d8ea01a69137435d8832109292ee45fe",
       "version_major": 2,
       "version_minor": 0
      },
      "text/plain": [
       "  0%|          | 0/309 [00:00<?, ?it/s]"
      ]
     },
     "metadata": {},
     "output_type": "display_data"
    },
    {
     "data": {
      "application/vnd.jupyter.widget-view+json": {
       "model_id": "6770065e33264e46b2ccfdc714b2e841",
       "version_major": 2,
       "version_minor": 0
      },
      "text/plain": [
       "  0%|          | 0/235 [00:00<?, ?it/s]"
      ]
     },
     "metadata": {},
     "output_type": "display_data"
    },
    {
     "data": {
      "application/vnd.jupyter.widget-view+json": {
       "model_id": "6b3b553aed2545a4bc8f5b254552d896",
       "version_major": 2,
       "version_minor": 0
      },
      "text/plain": [
       "  0%|          | 0/762 [00:00<?, ?it/s]"
      ]
     },
     "metadata": {},
     "output_type": "display_data"
    }
   ],
   "source": [
    "create_image(T1,\"/home/jovyan/Verdicchio/ONWAY_DATA/Dataset/T1/\")\n",
    "create_image(T2,\"/home/jovyan/Verdicchio/ONWAY_DATA/Dataset/T2/\")\n",
    "create_image(FLAIR,\"/home/jovyan/Verdicchio/ONWAY_DATA/Dataset/FLAIR/\")\n",
    "create_image(OTHER,\"/home/jovyan/Verdicchio/ONWAY_DATA/Dataset/OTHER/\")"
   ]
  }
 ],
 "metadata": {
  "kernelspec": {
   "display_name": "Python 3 (ipykernel)",
   "language": "python",
   "name": "python3"
  },
  "language_info": {
   "codemirror_mode": {
    "name": "ipython",
    "version": 3
   },
   "file_extension": ".py",
   "mimetype": "text/x-python",
   "name": "python",
   "nbconvert_exporter": "python",
   "pygments_lexer": "ipython3",
   "version": "3.10.9"
  }
 },
 "nbformat": 4,
 "nbformat_minor": 5
}
